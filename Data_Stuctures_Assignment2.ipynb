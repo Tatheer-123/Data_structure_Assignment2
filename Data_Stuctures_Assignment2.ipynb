{
 "cells": [
  {
   "cell_type": "code",
   "execution_count": 1,
   "id": "7e9858b0-c3e7-4d28-b8e4-a95c8d80fb6d",
   "metadata": {
    "collapsed": true,
    "jupyter": {
     "outputs_hidden": true
    },
    "tags": []
   },
   "outputs": [
    {
     "ename": "SyntaxError",
     "evalue": "invalid decimal literal (932469190.py, line 9)",
     "output_type": "error",
     "traceback": [
      "\u001b[0;36m  Cell \u001b[0;32mIn[1], line 9\u001b[0;36m\u001b[0m\n\u001b[0;31m    1.Single-Line Comments: ->This comment are use for only single line and single line comment use this character (#).\u001b[0m\n\u001b[0m     ^\u001b[0m\n\u001b[0;31mSyntaxError\u001b[0m\u001b[0;31m:\u001b[0m invalid decimal literal\n"
     ]
    }
   ],
   "source": [
    "Q1. How do you comment code in python? What are the different types of comments?\n",
    "\n",
    "Answer: I do comment code in python like this.\n",
    "        eg. \n",
    "           #this is comment code example.\n",
    "        \n",
    "        There are 2 types of comments in python.\n",
    "        \n",
    "        1.Single-Line Comments: ->This comment are use for only single line and single line comment use this character (#).\n",
    "                                ->If we need any line for reminder so we use comment.\n",
    "                                ->Comment line is not execute.        \n",
    "        Example: #This is Single-Line Comment.\n",
    "            \n",
    "        2.Multi-line Comments: ->This comment are used for Double line or Multiple line.\n",
    "                               ->Multi-Line Comments use this character (\"\"\")\n",
    "         \n",
    "        Example: \"\"\"\n",
    "                    This is Multi-Line Comments and\n",
    "                    this comment use for Double line \n",
    "                    and Multiple line\n",
    "                 \"\" \"\n",
    "                 \n",
    "Q2. What are variables in python? How do you declare and assign values to variables?\n",
    "\n",
    "Answer: ->Variable is like a container that stores values,data types.\n",
    "        ->A variable in a computer program holds a piece of data.\n",
    "        \n",
    "        1. Declaration: To create a variable, we give it a name. This name can be almost\n",
    "                     anything we want.\n",
    "                     \n",
    "        For example:  my_variable = 0\n",
    "        \n",
    "        2. Assignment: ->To assign a value to a variable, we use = sign.\n",
    "                      ->we put variable name = sign left side and put the value on the right side.\n",
    "        \n",
    "        For example:  my_variable = 42               \n",
    "         \n",
    "        3. Using the variable: once we've assined a value to a variable then we can use in our program.\n",
    "        \n",
    "        For example: my_variable * 2\n",
    "                     \n",
    "                     Answer is 84\n",
    "\n",
    "Q3. How do you convert one data type to another in python?\n",
    "\n",
    "Answer: We can convert one data type to another byusing functions that are design for the purpose.\n",
    "        \n",
    "        How we can convert: ->integer to string\n",
    "        \n",
    "                              number = 42\n",
    "                              s = str(number)\n",
    "                            \n",
    "                            ->string to integer\n",
    "                            \n",
    "                              s = \"42\"\n",
    "                              number = int(s)\n",
    "                            \n",
    "                            ->string to float\n",
    "                            \n",
    "                              s = \"3.14\"\n",
    "                              f = float(s)\n",
    "                              \n",
    "                            ->float to integer\n",
    "                            \n",
    "                              f = 3.95\n",
    "                              number = int(f)\n",
    "                              \n",
    "Q4. How do you write and execute a python script from the command line?\n",
    "\n",
    "Answer: 1.Open the Command Line: Open the command line or terminal on your computer. \n",
    "                                 You can usually find in your computers applications or search for it.                      \n",
    "        \n",
    "        2.Navigate to the script's location: Use the 'cd' (change directory) command to navigate to\n",
    "                                             the directory (folder) where your Python script is located. \n",
    "        \n",
    "        For example , if your scriptis in a folder named \"my_scripys,\" you can navigate to it like this:\n",
    "                    \n",
    "        -> cd path/to/my_scripts\n",
    "        replace 'path/to/my_scripts' with the actual path to your script's folder.\n",
    "        \n",
    "        3.Run the Python Script: To execute the python script, you simply type 'python' followed by the \n",
    "                                 name of your script file and press Enter.\n",
    "        For example , if your script is named \"myscript.py,\" you would run it like this:\n",
    "        \n",
    "        ->python myscript.py\n",
    "        \n",
    "        4.View the output: if your script produces any output (e.g., print statements), it will be displayed\n",
    "                           in the command line.\n",
    "                                                                        \n",
    "Q5. Given a list my_list = [1,2,3,4,5], write the code to slice the list and obtain the sub-list[2,3].\n",
    "\n",
    "Answer: my_list = [1,2,3,4,5]\n",
    "        sub_list = my_list[1:3] \n",
    "           print(sub_list)                                                              \n",
    "                                                                         \n",
    "Q6. What is a complex number in mathematics, and how is it represent in python?\n",
    "\n",
    "Answer: ->In mathematics, a compex number is a number that can be expressed in the form 'a + bi' where 'a' and 'b'\n",
    "          are real number and 'i' is imaginary unit. The imaginary unid 'i' is defined as the square root of -1. \n",
    "          Complex number consist of both a real part ('a') and an imaginary part ('bi').\n",
    "                                                                         \n",
    "        ->In python, complex number are represented similarly. You can create a complex number by using the 'j' \n",
    "          suffix for the imaginary part. \n",
    "                                                                         \n",
    "          For example: z=3+2j\n",
    "                         print(z)\n",
    "                                                                                                                                                 "
   ]
  },
  {
   "cell_type": "code",
   "execution_count": 4,
   "id": "e8be33dc-8a00-47c1-aebf-4fd78aaeef85",
   "metadata": {},
   "outputs": [],
   "source": [
    "Q7. What is a correct way to declare a variable named age and assign the value 25 to it?\n",
    "                                                                         \n",
    "Answer: Firstly we type age and = sign and type 25. age is variable, = is assignment operator and 25 is variable value.\n",
    "                                                                         \n",
    "age = 25                                                                                                                                       "
   ]
  },
  {
   "cell_type": "code",
   "execution_count": 5,
   "id": "2b7a3df7-afa8-42ec-94e2-02db6f8f8376",
   "metadata": {},
   "outputs": [
    {
     "data": {
      "text/plain": [
       "25"
      ]
     },
     "execution_count": 5,
     "metadata": {},
     "output_type": "execute_result"
    }
   ],
   "source": [
    "age"
   ]
  },
  {
   "cell_type": "code",
   "execution_count": 6,
   "id": "78b4a2ba-3e35-4251-863e-469f8c66f9c4",
   "metadata": {},
   "outputs": [],
   "source": [
    "Q8. Declare a variable named price and assign the value 9.99 to it. What data type does this variable belong to ?     \n",
    "\n",
    "Answer: We find datatype with the help of type() function. \n",
    "\n",
    "price = 9.99 "
   ]
  },
  {
   "cell_type": "code",
   "execution_count": 7,
   "id": "55d1ed2f-1f73-474f-994d-8dba6db18384",
   "metadata": {},
   "outputs": [
    {
     "data": {
      "text/plain": [
       "9.99"
      ]
     },
     "execution_count": 7,
     "metadata": {},
     "output_type": "execute_result"
    }
   ],
   "source": [
    "price"
   ]
  },
  {
   "cell_type": "code",
   "execution_count": 8,
   "id": "c16a34f2-e9ee-4bad-bf79-bbec56555a1b",
   "metadata": {},
   "outputs": [
    {
     "data": {
      "text/plain": [
       "float"
      ]
     },
     "execution_count": 8,
     "metadata": {},
     "output_type": "execute_result"
    }
   ],
   "source": [
    "type(9.99)"
   ]
  },
  {
   "cell_type": "code",
   "execution_count": 21,
   "id": "031dd27f-773c-4e32-a7fa-583cc07ae4e8",
   "metadata": {},
   "outputs": [
    {
     "name": "stdout",
     "output_type": "stream",
     "text": [
      "tatheer alam warsi\n"
     ]
    }
   ],
   "source": [
    "Q9. Create a variable named name and assign your full name to it as a string.\n",
    "   How would you print the value of the variable ?\n",
    "\n",
    "Answer: For string value we use these two sign ' and \" and for print we use\n",
    "        print function.\n",
    "    \n",
    "#For example\n",
    "\n",
    "name = \"tatheer alam warsi\"\n",
    "print(name)"
   ]
  },
  {
   "cell_type": "code",
   "execution_count": 22,
   "id": "517f28f4-a91d-4c60-94ce-648049eafb12",
   "metadata": {},
   "outputs": [
    {
     "data": {
      "text/plain": [
       "str"
      ]
     },
     "execution_count": 22,
     "metadata": {},
     "output_type": "execute_result"
    }
   ],
   "source": [
    "type(name)"
   ]
  },
  {
   "cell_type": "code",
   "execution_count": 33,
   "id": "dfe0296e-9c6c-4c48-9c74-2d616a2f4d35",
   "metadata": {},
   "outputs": [
    {
     "name": "stdout",
     "output_type": "stream",
     "text": [
      "World\n"
     ]
    }
   ],
   "source": [
    "Q10. Given the string \"Hello, World\", extract the substring \"world\".\n",
    "\n",
    "Answer: Firstly we make 1 variable and assign given value after that\n",
    "         we make another variable and given world index value.\n",
    "    \n",
    "s = \"Hello, World\"\n",
    "substring = s[7:12]\n",
    "print(substring)"
   ]
  },
  {
   "cell_type": "code",
   "execution_count": 40,
   "id": "fd747141-b840-4f20-ab6d-84a88c2346fa",
   "metadata": {},
   "outputs": [],
   "source": [
    "Q11. Create a variable named \"is_student\" and assign it a boolean\n",
    "     value indicating whether you are currently a student or not.\n",
    "    \n",
    "Answer: We make variable and assign value True if i student. False\n",
    "         if i'm not.\n",
    "\n",
    "it_student = True"
   ]
  },
  {
   "cell_type": "code",
   "execution_count": 41,
   "id": "4f829627-3c15-4bad-b1df-ea8b0b0b7ca4",
   "metadata": {},
   "outputs": [
    {
     "data": {
      "text/plain": [
       "True"
      ]
     },
     "execution_count": 41,
     "metadata": {},
     "output_type": "execute_result"
    }
   ],
   "source": [
    "it_student"
   ]
  }
 ],
 "metadata": {
  "kernelspec": {
   "display_name": "Python 3 (ipykernel)",
   "language": "python",
   "name": "python3"
  },
  "language_info": {
   "codemirror_mode": {
    "name": "ipython",
    "version": 3
   },
   "file_extension": ".py",
   "mimetype": "text/x-python",
   "name": "python",
   "nbconvert_exporter": "python",
   "pygments_lexer": "ipython3",
   "version": "3.10.8"
  }
 },
 "nbformat": 4,
 "nbformat_minor": 5
}
